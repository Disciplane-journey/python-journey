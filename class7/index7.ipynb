{
 "cells": [
  {
   "cell_type": "markdown",
   "metadata": {},
   "source": [
    "Dictonary\n",
    "\n",
    "*key:value (item)\n",
    "    *key replacement of indexes\n",
    "    *value item "
   ]
  },
  {
   "cell_type": "code",
   "execution_count": null,
   "metadata": {},
   "outputs": [],
   "source": [
    "# Working with Python Dictionaries: Why They Are Useful\n",
    "# In Python, we often use lists and tuples to store data. But what if you need to know exactly which value corresponds to what, like a name, a father's name, or a country? Using lists or tuples, you only have indexes, which can get confusing.\n",
    "# This is where dictionaries (dict) shine! Dictionaries allow us to map keys to values, so you can access your data directly and intuitively. They are especially useful for handling databases, structured data, or even writing your own mini-languages (like SQL).\n",
    "# 💡 Key Takeaways:\n",
    "# Dictionaries allow direct access via keys instead of relying on indexes.\n",
    "# Keys can be strings or numbers, and values can be almost any type.\n",
    "# Use .get() for safe access to keys that might not exist.\n",
    "# Great for organizing structured data or building complex data models."
   ]
  },
  {
   "cell_type": "code",
   "execution_count": null,
   "metadata": {},
   "outputs": [
    {
     "name": "stdout",
     "output_type": "stream",
     "text": [
      "Tahir\n",
      "Pakistan\n",
      "{1, 2, 3}\n",
      "2\n",
      "Not available\n",
      "dict_keys(['name', 'Fname', 'education', 0, 'abc', 'xyz', 'aab', 'fulllname'])\n",
      "dict_values(['TahirShoaib', 'Shoaib', 'university', 'Pakistan', {1, 2, 3}, [1, 2, 3], {'a': 1, 'b': 2}, 'TahirShoaib'])\n",
      "TahirShoaib\n",
      "Shoaib\n",
      "university\n",
      "Pakistan\n",
      "{1, 2, 3}\n",
      "[1, 2, 3]\n",
      "{'a': 1, 'b': 2}\n",
      "TahirShoaib\n",
      "dict_items([('name', 'TahirShoaib'), ('Fname', 'Shoaib'), ('education', 'university'), (0, 'Pakistan'), ('abc', {1, 2, 3}), ('xyz', [1, 2, 3]), ('aab', {'a': 1, 'b': 2}), ('fulllname', 'TahirShoaib')])\n"
     ]
    },
    {
     "ename": "TypeError",
     "evalue": "unhashable type: 'set'",
     "output_type": "error",
     "traceback": [
      "\u001b[1;31m---------------------------------------------------------------------------\u001b[0m",
      "\u001b[1;31mTypeError\u001b[0m                                 Traceback (most recent call last)",
      "Cell \u001b[1;32mIn[33], line 35\u001b[0m\n\u001b[0;32m     33\u001b[0m \u001b[38;5;28mprint\u001b[39m(data\u001b[38;5;241m.\u001b[39mitems())\n\u001b[0;32m     34\u001b[0m {k:v \u001b[38;5;28;01mfor\u001b[39;00m k,v \u001b[38;5;129;01min\u001b[39;00m data\u001b[38;5;241m.\u001b[39mitems()}\n\u001b[1;32m---> 35\u001b[0m {v:k \u001b[38;5;28;01mfor\u001b[39;00m k,v \u001b[38;5;129;01min\u001b[39;00m data\u001b[38;5;241m.\u001b[39mitems()}\n\u001b[0;32m     36\u001b[0m \u001b[38;5;66;03m# print(data)\u001b[39;00m\n",
      "\u001b[1;31mTypeError\u001b[0m: unhashable type: 'set'"
     ]
    }
   ],
   "source": [
    "from typing import Dict , Union\n",
    "\n",
    "keys = Union[int,str]\n",
    "value = Union[str,int,float,list,tuple,dict,set]\n",
    "\n",
    "data : Dict[keys,value] = {\n",
    "                        \"name\" : \"Tahir\",\n",
    "                        \"Fname\" : \"Shoaib\",\n",
    "                        \"education\" : \"university\",\n",
    "                         0 : \"Pakistan\",\n",
    "                         \"abc\" : {1,2,3},\n",
    "                         \"xyz\" : [1,2,3],\n",
    "                         \"aab\" : {\"a\":1, \"b\":2},\n",
    "                        #  {1,2,3} : \"Pakistan\",# error \n",
    "                        #  (1,2,3): \"Pakistan\" #error\n",
    "                        #  {1,2,3}: \"Pakistan\" #error\n",
    "                        }\n",
    "\n",
    "\n",
    " \n",
    "print(data[\"name\"])\n",
    "print(data[0]) # index = key\n",
    "print(data[\"abc\"]) \n",
    "print(data[\"aab\"][\"b\"])\n",
    "data [\"fulllname\"] = \"TahirShoaib\" #Add new key and value\n",
    "data [\"name\"] = \"TahirShoaib\" #update\n",
    "# print(data[\"pakistan\"]) # Error show \n",
    "print(data.get(\"pakistan\",\"Not available\"))\n",
    "print(data.keys())\n",
    "print(data.values())\n",
    "for v in data.values():\n",
    "  print(v)\n",
    "print(data.items())\n",
    "{k:v for k,v in data.items()}\n",
    "\n",
    "# print(data)"
   ]
  },
  {
   "cell_type": "code",
   "execution_count": null,
   "metadata": {},
   "outputs": [
    {
     "name": "stdout",
     "output_type": "stream",
     "text": [
      "{1, 2, 3}\n"
     ]
    }
   ],
   "source": [
    "data : set = {1,2,1,2,1,2,1,2,3,3} #return unique and order not use indexx error show \n",
    "print(data)"
   ]
  },
  {
   "cell_type": "code",
   "execution_count": null,
   "metadata": {},
   "outputs": [],
   "source": []
  }
 ],
 "metadata": {
  "kernelspec": {
   "display_name": "Python 3",
   "language": "python",
   "name": "python3"
  },
  "language_info": {
   "codemirror_mode": {
    "name": "ipython",
    "version": 3
   },
   "file_extension": ".py",
   "mimetype": "text/x-python",
   "name": "python",
   "nbconvert_exporter": "python",
   "pygments_lexer": "ipython3",
   "version": "3.12.6"
  }
 },
 "nbformat": 4,
 "nbformat_minor": 2
}
