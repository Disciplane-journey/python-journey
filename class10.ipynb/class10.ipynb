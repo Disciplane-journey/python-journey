{
 "cells": [
  {
   "cell_type": "code",
   "execution_count": null,
   "id": "6ab7c0e4",
   "metadata": {},
   "outputs": [],
   "source": [
    "# Function\n",
    "# Why do we use functions? \n",
    "# In real-world projects or any task, some steps may repeat multiple times. \n",
    "# For example, if I want to explain to someone how to make tea:\n",
    "# 1. First, add milk\n",
    "# 2. Then, add tea leaves\n",
    "# 3. Add sugar\n",
    "# 4. When done, pour it into a cup\n",
    "# Instead of telling each person step by step every time, I can put all these steps into a single function.\n",
    "# Then, whenever I need to explain, I just call the function by its name. \n",
    "# The steps are already defined inside the function.\n",
    "\n",
    "# Types of functions:\n",
    "# 1. Predefined functions: Provided by the programming language\n",
    "#    Examples: print(), len(), id(), dir(), chr(), ord(), exec()\n",
    "# 2. User-defined functions: Custom functions created by you\n",
    "\n",
    "# Return vs Non-return functions:\n",
    "# 1. Return function: You can assign the output to a variable\n",
    "# 2. Non-return function: Executes the code but you cannot assign its output\n",
    "\n",
    "# Components of a function:\n",
    "# - Function declaration\n",
    "# - Function body\n",
    "# - Function calling\n",
    "\n",
    "# Syntax for user-defined function\n",
    "'''\n",
    "def function_name(param1: type, param2: type, ...) -> return_type:  # Declaration\n",
    "    function_body  # Body\n",
    "\n",
    "function_name(arg1, arg2)  # Calling\n",
    "'''\n",
    "\n",
    "# Lambda function (one-line function):\n",
    "# - No name\n",
    "# - Only used in the line\n",
    "# Syntax:\n",
    "# lambda param1, param2: function_body\n"
   ]
  },
  {
   "cell_type": "code",
   "execution_count": 3,
   "id": "042839ab",
   "metadata": {},
   "outputs": [
    {
     "name": "stdout",
     "output_type": "stream",
     "text": [
      "pakistan\n"
     ]
    },
    {
     "data": {
      "text/plain": [
       "None"
      ]
     },
     "metadata": {},
     "output_type": "display_data"
    },
    {
     "data": {
      "text/plain": [
       "8"
      ]
     },
     "metadata": {},
     "output_type": "display_data"
    }
   ],
   "source": [
    "# return and nonreturn fuction\n",
    "\n",
    "a : str =print(\"pakistan\") #non return\n",
    "\n",
    "display(a)\n",
    "\n",
    "a : str =len(\"pakistan\") #return\n",
    "\n",
    "display(a)"
   ]
  },
  {
   "cell_type": "code",
   "execution_count": 23,
   "id": "90dc9b8b",
   "metadata": {},
   "outputs": [
    {
     "name": "stdout",
     "output_type": "stream",
     "text": [
      "Student name: Tahir\n",
      "Student name: Shoaib\n"
     ]
    }
   ],
   "source": [
    "# Example: User-defined function\n",
    "\n",
    "# I created a function called `student_name` that prints the student's name\n",
    "def student_name() -> None:\n",
    "    print(\"Student name: Tahir\")\n",
    "\n",
    "# Whenever I want to use it, I just call the function by its name\n",
    "student_name()  # Output: Student name: Tahir\n",
    "\n",
    "# Benefit:\n",
    "# If I want to change the name, I only update it inside the function\n",
    "# For example, changing \"Tahir\" to \"Shoaib\":\n",
    "def student_name() -> None:\n",
    "    print(\"Student name: Shoaib\")\n",
    "\n",
    "student_name()  # Output: Student name: Shoaib\n",
    "\n",
    "# Explanation:\n",
    "# - You don’t need to rewrite the code every time\n",
    "# - Calling the function automatically gives the updated value\n",
    "# - This is the power of using functions in programming\n"
   ]
  },
  {
   "cell_type": "code",
   "execution_count": null,
   "id": "0bd84006",
   "metadata": {},
   "outputs": [
    {
     "data": {
      "text/plain": [
       "3"
      ]
     },
     "execution_count": 6,
     "metadata": {},
     "output_type": "execute_result"
    }
   ],
   "source": [
    "\n",
    "#            parameter1 , parameter2\n",
    "def add_number(num1 :int , num2 :int)->int:\n",
    "  return num1 + num2\n",
    "\n",
    "add_number(1,2) #arg 1 , arg2"
   ]
  },
  {
   "cell_type": "code",
   "execution_count": 7,
   "id": "1c7c24ed",
   "metadata": {},
   "outputs": [
    {
     "data": {
      "text/plain": [
       "2"
      ]
     },
     "execution_count": 7,
     "metadata": {},
     "output_type": "execute_result"
    }
   ],
   "source": [
    "#            parameter1 , parameter2\n",
    "def add_number(num1 :int , num2 :int =0)->int:\n",
    "  return num1 + num2\n",
    "\n",
    "add_number(2) #arg 1 , arg2"
   ]
  },
  {
   "cell_type": "code",
   "execution_count": null,
   "id": "6783b312",
   "metadata": {},
   "outputs": [
    {
     "name": "stdout",
     "output_type": "stream",
     "text": [
      "30\n"
     ]
    }
   ],
   "source": [
    "from typing import Callable\n",
    "\n",
    "add: Callable[[int,int], int] =lambda x,y : x+y\n",
    "result = add(10,20)\n",
    "print(result)"
   ]
  },
  {
   "cell_type": "code",
   "execution_count": 10,
   "id": "5464d3da",
   "metadata": {},
   "outputs": [
    {
     "data": {
      "text/plain": [
       "[1, 4, 9, 16, 25, 36, 49]"
      ]
     },
     "execution_count": 10,
     "metadata": {},
     "output_type": "execute_result"
    }
   ],
   "source": [
    "data : list[int] = [1,2,3,4,5,6,7]\n",
    "data = list(map(lambda x:x**2 , data))\n",
    "\n",
    "data"
   ]
  },
  {
   "cell_type": "code",
   "execution_count": 13,
   "id": "725b6658",
   "metadata": {},
   "outputs": [
    {
     "data": {
      "text/plain": [
       "[2, 4, 6]"
      ]
     },
     "execution_count": 13,
     "metadata": {},
     "output_type": "execute_result"
    }
   ],
   "source": [
    "data : list[int] = [1,2,3,4,5,6,7]\n",
    "data = list(filter(lambda x:x&1 ==0 , data))\n",
    "\n",
    "data"
   ]
  },
  {
   "cell_type": "code",
   "execution_count": 22,
   "id": "5597798d",
   "metadata": {},
   "outputs": [
    {
     "name": "stdout",
     "output_type": "stream",
     "text": [
      "<generator object my_range at 0x000001E12E501990>\n",
      "[1, 2, 3, 4, 5, 6, 7, 8, 9, 10]\n"
     ]
    }
   ],
   "source": [
    "# Generator Function\n",
    "# Generator functions are very useful when you want to generate values one by one\n",
    "# They produce items only if they satisfy your logic, otherwise they are skipped\n",
    "# Key features:\n",
    "# - Iterates over elements one by one\n",
    "# - Stops after each iteration (lazy evaluation)\n",
    "# - Remembers the last iteration value\n",
    "# - Next iteration resumes from where it stopped\n",
    "\n",
    "# Example: Custom range generator\n",
    "def my_range(start: int, end: int, step: int = 1):\n",
    "    for i in range(start, end + 1, step):\n",
    "        yield i  # 'yield' produces value one by one\n",
    "\n",
    "# Using the generator\n",
    "a = my_range(1, 10)\n",
    "print(a)          # <generator object my_range at ...>\n",
    "print(list(a))    # Converts all generated values into a list: [1,2,3,...,10]\n",
    "\n",
    "# Explanation:\n",
    "# - 'yield' allows f\n"
   ]
  },
  {
   "cell_type": "code",
   "execution_count": 16,
   "id": "f93c887b",
   "metadata": {},
   "outputs": [
    {
     "name": "stdout",
     "output_type": "stream",
     "text": [
      "<generator object my_range at 0x000001E12E501B70>\n",
      "1\n",
      "2\n",
      "3\n",
      "Pakistan\n",
      "4\n"
     ]
    }
   ],
   "source": [
    "a = my_range(1,10)\n",
    "print(a)\n",
    "print(next(a))\n",
    "print(next(a))\n",
    "print(next(a))\n",
    "print(\"Pakistan\")\n",
    "print(next(a))"
   ]
  },
  {
   "cell_type": "code",
   "execution_count": 29,
   "id": "c3919281",
   "metadata": {},
   "outputs": [],
   "source": [
    "from collections.abc import Iterator\n",
    "\n",
    "MyDictT = dict[str, object]  # for example\n",
    "\n",
    "def yield_func() -> Iterator[MyDictT]:\n",
    "    a: MyDictT = {}\n",
    "    b: MyDictT = {}\n",
    "    ...\n",
    "    yield a\n",
    "    yield b"
   ]
  },
  {
   "cell_type": "code",
   "execution_count": 21,
   "id": "4b96ea14",
   "metadata": {},
   "outputs": [
    {
     "name": "stdout",
     "output_type": "stream",
     "text": [
      "1\n",
      "2\n",
      "<class 'generator'>\n"
     ]
    }
   ],
   "source": [
    "from collections.abc import Iterator\n",
    "\n",
    "def my_range(start:int , end:int , step: int=1)->Iterator[int]:\n",
    "    for i in range(start,end+1,step):\n",
    "        yield i # Generator fucntion\n",
    "\n",
    "\n",
    "iterator_variable = my_range(1,10)\n",
    "\n",
    "print(next(iterator_variable))\n",
    "print(next(iterator_variable))\n",
    "print(type(iterator_variable))"
   ]
  },
  {
   "cell_type": "code",
   "execution_count": 27,
   "id": "1e492fdd",
   "metadata": {},
   "outputs": [
    {
     "name": "stdout",
     "output_type": "stream",
     "text": [
      "(1, 2, 3, 3, 5, 6) <class 'tuple'>\n"
     ]
    },
    {
     "data": {
      "text/plain": [
       "20"
      ]
     },
     "execution_count": 27,
     "metadata": {},
     "output_type": "execute_result"
    }
   ],
   "source": [
    "def abc(*nums):\n",
    "    print(nums, type(nums))\n",
    "    total = 0\n",
    "    for n in nums:\n",
    "        total += n\n",
    "\n",
    "    return total\n",
    "\n",
    "\n",
    "abc(1,2,3,3,5,6)"
   ]
  },
  {
   "cell_type": "code",
   "execution_count": 26,
   "id": "d9e40927",
   "metadata": {},
   "outputs": [
    {
     "name": "stdout",
     "output_type": "stream",
     "text": [
      "Hello Monica\n",
      "Hello Luke\n",
      "Hello Steve\n",
      "Hello John\n",
      "Hello Sir Zia\n",
      "Hello Muhammad Tahir\n"
     ]
    }
   ],
   "source": [
    "from typing import Tuple\n",
    "\n",
    "def greet(*names: Tuple[str, ...]) -> None:\n",
    "    \"\"\"\n",
    "    This function greets all persons in the names tuple.\n",
    "    \"\"\"\n",
    "    for name in names:\n",
    "        print(\"Hello\", name)\n",
    "\n",
    "greet(\"Monica\", \"Luke\", \"Steve\", \"John\",\"Sir Zia\", \"Muhammad Tahir\")"
   ]
  },
  {
   "cell_type": "code",
   "execution_count": 30,
   "id": "970071be",
   "metadata": {},
   "outputs": [
    {
     "name": "stdout",
     "output_type": "stream",
     "text": [
      "{'a': 'pakistan', 'b': 'China'}\n"
     ]
    }
   ],
   "source": [
    "from typing import Dict\n",
    "\n",
    "def greet(**xyz: Dict[str,str]) -> None:\n",
    "    print(xyz)\n",
    "\n",
    "greet(a=\"pakistan\", b='China')"
   ]
  },
  {
   "cell_type": "code",
   "execution_count": 32,
   "id": "5486ad7c",
   "metadata": {},
   "outputs": [
    {
     "name": "stdout",
     "output_type": "stream",
     "text": [
      "{'a': 7, 'b': 20, 'c': 30, 'x': 1, 'y': 2, 'name': 'Muhammad Tahir'} <class 'dict'>\n"
     ]
    }
   ],
   "source": [
    "def xyz(**kargs):\n",
    "    print(kargs, type(kargs))\n",
    "\n",
    "\n",
    "xyz(a=7, b=20, c=30, x=1,y=2 , name=\"Muhammad Tahir\")"
   ]
  },
  {
   "cell_type": "code",
   "execution_count": null,
   "id": "c66a0de9",
   "metadata": {},
   "outputs": [],
   "source": []
  },
  {
   "cell_type": "code",
   "execution_count": 33,
   "id": "eb66852d",
   "metadata": {},
   "outputs": [
    {
     "name": "stdout",
     "output_type": "stream",
     "text": [
      "1 2 (7, 9, 9, 9) {'c': 20, 'd': 30, 'x': 100}\n"
     ]
    }
   ],
   "source": [
    "def my_function(a, b, *abc, **xyz):\n",
    "    print(a,b, abc, xyz)\n",
    "\n",
    "my_function(1,2, 7,9,9,9, c=20, d= 30, x=100)"
   ]
  },
  {
   "cell_type": "code",
   "execution_count": 34,
   "id": "440f2646",
   "metadata": {},
   "outputs": [
    {
     "name": "stdout",
     "output_type": "stream",
     "text": [
      "1 2 (7, 9, 9, 9) {'c': 20, 'd': 30, 'x': 100}\n"
     ]
    }
   ],
   "source": [
    "# typing hint error\n",
    "def my_function(a:int, b:int, *abc:Tuple[int, ...], **xyz:Dict[str,int]):\n",
    "    print(a,b, abc, xyz)\n",
    "\n",
    "my_function(1,2, 7,9,9,9, c=20, d= 30, x=100)"
   ]
  },
  {
   "cell_type": "code",
   "execution_count": 35,
   "id": "7b351d3f",
   "metadata": {},
   "outputs": [
    {
     "name": "stdout",
     "output_type": "stream",
     "text": [
      "1 2 (7, 9, 9, 9) {'c': 20, 'd': 30, 'x': 100}\n"
     ]
    }
   ],
   "source": [
    "def my_function(a: int, b: int, *abc: int, **xyz: int) -> None:\n",
    "    print(a, b, abc, xyz)\n",
    "\n",
    "my_function(1, 2, 7, 9, 9, 9, c=20, d=30, x=100)"
   ]
  },
  {
   "cell_type": "code",
   "execution_count": 36,
   "id": "1f2df733",
   "metadata": {},
   "outputs": [
    {
     "name": "stdout",
     "output_type": "stream",
     "text": [
      "Something is happening before the function is called.\n",
      "Hello!\n",
      "Something is happening after the function is called.\n"
     ]
    }
   ],
   "source": [
    "from typing import Callable\n",
    "\n",
    "def my_decorator(func: Callable[[], None])-> Callable[[], None]:\n",
    "    def wrapper():\n",
    "        print(\"Something is happening before the function is called.\")\n",
    "        func()\n",
    "        print(\"Something is happening after the function is called.\")\n",
    "    return wrapper\n",
    "\n",
    "@my_decorator\n",
    "def say_hello():\n",
    "    print(\"Hello!\")\n",
    "\n",
    "say_hello()"
   ]
  },
  {
   "cell_type": "code",
   "execution_count": 37,
   "id": "94940cf4",
   "metadata": {},
   "outputs": [
    {
     "name": "stdout",
     "output_type": "stream",
     "text": [
      "Something is happening before the function is called.\n",
      "100\n",
      "Something is happening after the function is called.\n"
     ]
    }
   ],
   "source": [
    "from typing import Callable\n",
    "\n",
    "def my_decorator(func: Callable[[int], None]) -> Callable[[int], None]:\n",
    "    def wrapper(num1: int) -> None:\n",
    "        print(\"Something is happening before the function is called.\")\n",
    "        func(num1)\n",
    "        print(\"Something is happening after the function is called.\")\n",
    "    return wrapper\n",
    "\n",
    "@my_decorator\n",
    "def say_hello(num1: int) -> None:\n",
    "    print(num1)\n",
    "\n",
    "say_hello(100)"
   ]
  },
  {
   "cell_type": "code",
   "execution_count": 38,
   "id": "dd941705",
   "metadata": {},
   "outputs": [
    {
     "name": "stdout",
     "output_type": "stream",
     "text": [
      "The factorial of 5 is 120\n"
     ]
    }
   ],
   "source": [
    "def factorial(x: int) -> int:\n",
    "    \"\"\"This is a recursive function\n",
    "    to find the factorial of an integer\"\"\"\n",
    "    if x == 1:\n",
    "        return 1\n",
    "    else:\n",
    "        return (x * factorial(x-1))\n",
    "        #       5*4*3*2*1\n",
    "\n",
    "num = 5\n",
    "print(\"The factorial of\", num, \"is\", factorial(num))"
   ]
  },
  {
   "cell_type": "code",
   "execution_count": 39,
   "id": "140fcff6",
   "metadata": {},
   "outputs": [
    {
     "data": {
      "text/plain": [
       "120"
      ]
     },
     "execution_count": 39,
     "metadata": {},
     "output_type": "execute_result"
    }
   ],
   "source": [
    "5*4*3*2*1"
   ]
  },
  {
   "cell_type": "code",
   "execution_count": null,
   "id": "49c4f60e",
   "metadata": {},
   "outputs": [],
   "source": []
  }
 ],
 "metadata": {
  "kernelspec": {
   "display_name": "Python 3",
   "language": "python",
   "name": "python3"
  },
  "language_info": {
   "codemirror_mode": {
    "name": "ipython",
    "version": 3
   },
   "file_extension": ".py",
   "mimetype": "text/x-python",
   "name": "python",
   "nbconvert_exporter": "python",
   "pygments_lexer": "ipython3",
   "version": "3.12.6"
  }
 },
 "nbformat": 4,
 "nbformat_minor": 5
}
