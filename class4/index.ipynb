{
 "cells": [
  {
   "cell_type": "code",
   "execution_count": 4,
   "metadata": {},
   "outputs": [
    {
     "name": "stdout",
     "output_type": "stream",
     "text": [
      "['A', 'B']\n",
      "['A', 'B']\n"
     ]
    }
   ],
   "source": [
    "characters : list[str]=['A','B','C','D','E','F','G','H','I','J','K','L']\n",
    "print(characters[0:2])\n",
    "print(characters[-12:-10])"
   ]
  },
  {
   "cell_type": "code",
   "execution_count": 3,
   "metadata": {},
   "outputs": [
    {
     "name": "stdout",
     "output_type": "stream",
     "text": [
      "Tahir\n",
      "Shoaib\n",
      "Tahirshoaib\n"
     ]
    }
   ],
   "source": [
    "#                  0      1          2\n",
    "names : list[str] = [\"Tahir\",\"Shoaib\",\"Tahirshoaib\"]\n",
    "#                   -3         2-            -1\n",
    "\n",
    "print(names[-3])\n",
    "print(names[1])\n",
    "print(names[-1])\n",
    "\n"
   ]
  },
  {
   "cell_type": "code",
   "execution_count": 5,
   "metadata": {},
   "outputs": [
    {
     "name": "stdout",
     "output_type": "stream",
     "text": [
      "Tahir\n",
      "Shoaib\n",
      "Tahirshoaib\n"
     ]
    }
   ],
   "source": [
    "from typing import Any\n",
    "\n",
    "#                  0      1          2\n",
    "names : list[Any] = [\"Tahir\",\"Shoaib\",\"Tahirshoaib\"]\n",
    "#                   -3         2-            -1\n",
    "\n",
    "print(names[-3])\n",
    "print(names[1])\n",
    "print(names[-1])\n",
    "\n"
   ]
  },
  {
   "cell_type": "code",
   "execution_count": 9,
   "metadata": {},
   "outputs": [
    {
     "name": "stdout",
     "output_type": "stream",
     "text": [
      "<class 'list'>\n",
      "<class 'str'>\n",
      "My name is Tahirshoaib\n"
     ]
    }
   ],
   "source": [
    "#                  0      1          2\n",
    "names : list[Any] = [\"Tahir\",\"Shoaib\",\"Tahirshoaib\"]\n",
    "#                   -3         2-            -1\n",
    "\n",
    "print(type(names))\n",
    "print(type(names[-3]))\n",
    "print(f'My name is {names[-1]}')\n"
   ]
  },
  {
   "cell_type": "code",
   "execution_count": null,
   "metadata": {},
   "outputs": [
    {
     "name": "stdout",
     "output_type": "stream",
     "text": [
      "['A', 'b']\n",
      "['A', 'b']\n",
      "['A', 'b']\n",
      "['A', 'b']\n",
      "['A', 'b']\n"
     ]
    }
   ],
   "source": [
    "characterss  : list[Any]  =  [\"A\",\"b\",\"c\",\"d\"]\n",
    "# default slicing go from left to right\n",
    "\n",
    "print(characterss[0:2]) #0= include :index 2-1  =1\n",
    "print(characterss[:2])  #not pass any number = all\n",
    "print(characterss[-4:-2])\n",
    "print(characterss[0:2:1]) \n",
    "print(characterss[0:2:])  \n",
    "\n"
   ]
  },
  {
   "cell_type": "code",
   "execution_count": 15,
   "metadata": {},
   "outputs": [
    {
     "name": "stdout",
     "output_type": "stream",
     "text": [
      "['d', 'c', 'b', 'A']\n"
     ]
    }
   ],
   "source": [
    "characterss  : list[Any]  =  [\"A\",\"b\",\"c\",\"d\"]\n",
    "\n",
    "print(characterss[::-1])"
   ]
  },
  {
   "cell_type": "code",
   "execution_count": 16,
   "metadata": {},
   "outputs": [
    {
     "name": "stdout",
     "output_type": "stream",
     "text": [
      "['A', 'c']\n"
     ]
    }
   ],
   "source": [
    "characterss  : list[Any]  =  [\"A\",\"b\",\"c\",\"d\"]\n",
    "\n",
    "print(characterss[::2])"
   ]
  },
  {
   "cell_type": "code",
   "execution_count": 17,
   "metadata": {},
   "outputs": [
    {
     "name": "stdout",
     "output_type": "stream",
     "text": [
      "['c', 'b', 'A']\n"
     ]
    }
   ],
   "source": [
    "characterss  : list[Any]  =  [\"A\",\"b\",\"c\",\"d\"]\n",
    "\n",
    "print(characterss[-2:-5:-1])"
   ]
  },
  {
   "cell_type": "markdown",
   "metadata": {},
   "source": [
    "List Method"
   ]
  },
  {
   "cell_type": "code",
   "execution_count": 27,
   "metadata": {},
   "outputs": [
    {
     "data": {
      "text/plain": [
       "['append',\n",
       " 'clear',\n",
       " 'copy',\n",
       " 'count',\n",
       " 'extend',\n",
       " 'index',\n",
       " 'insert',\n",
       " 'pop',\n",
       " 'remove',\n",
       " 'reverse',\n",
       " 'sort']"
      ]
     },
     "execution_count": 27,
     "metadata": {},
     "output_type": "execute_result"
    }
   ],
   "source": [
    "[i for i in dir(list)if \"__\" not in i]"
   ]
  },
  {
   "cell_type": "code",
   "execution_count": 28,
   "metadata": {},
   "outputs": [
    {
     "name": "stdout",
     "output_type": "stream",
     "text": [
      "Help on built-in function print in module builtins:\n",
      "\n",
      "print(*args, sep=' ', end='\\n', file=None, flush=False)\n",
      "    Prints the values to a stream, or to sys.stdout by default.\n",
      "\n",
      "    sep\n",
      "      string inserted between values, default a space.\n",
      "    end\n",
      "      string appended after the last value, default a newline.\n",
      "    file\n",
      "      a file-like object (stream); defaults to the current sys.stdout.\n",
      "    flush\n",
      "      whether to forcibly flush the stream.\n",
      "\n"
     ]
    }
   ],
   "source": [
    "help(print)"
   ]
  },
  {
   "cell_type": "code",
   "execution_count": 29,
   "metadata": {},
   "outputs": [
    {
     "name": "stdout",
     "output_type": "stream",
     "text": [
      "\u001b[1;31mSignature:\u001b[0m \u001b[0mprint\u001b[0m\u001b[1;33m(\u001b[0m\u001b[1;33m*\u001b[0m\u001b[0margs\u001b[0m\u001b[1;33m,\u001b[0m \u001b[0msep\u001b[0m\u001b[1;33m=\u001b[0m\u001b[1;34m' '\u001b[0m\u001b[1;33m,\u001b[0m \u001b[0mend\u001b[0m\u001b[1;33m=\u001b[0m\u001b[1;34m'\\n'\u001b[0m\u001b[1;33m,\u001b[0m \u001b[0mfile\u001b[0m\u001b[1;33m=\u001b[0m\u001b[1;32mNone\u001b[0m\u001b[1;33m,\u001b[0m \u001b[0mflush\u001b[0m\u001b[1;33m=\u001b[0m\u001b[1;32mFalse\u001b[0m\u001b[1;33m)\u001b[0m\u001b[1;33m\u001b[0m\u001b[1;33m\u001b[0m\u001b[0m\n",
      "\u001b[1;31mDocstring:\u001b[0m\n",
      "Prints the values to a stream, or to sys.stdout by default.\n",
      "\n",
      "sep\n",
      "  string inserted between values, default a space.\n",
      "end\n",
      "  string appended after the last value, default a newline.\n",
      "file\n",
      "  a file-like object (stream); defaults to the current sys.stdout.\n",
      "flush\n",
      "  whether to forcibly flush the stream.\n",
      "\u001b[1;31mType:\u001b[0m      builtin_function_or_method"
     ]
    }
   ],
   "source": [
    "print?"
   ]
  },
  {
   "cell_type": "code",
   "execution_count": 30,
   "metadata": {},
   "outputs": [
    {
     "name": "stdout",
     "output_type": "stream",
     "text": [
      "\u001b[1;31mSignature:\u001b[0m \u001b[0mprint\u001b[0m\u001b[1;33m(\u001b[0m\u001b[1;33m*\u001b[0m\u001b[0margs\u001b[0m\u001b[1;33m,\u001b[0m \u001b[0msep\u001b[0m\u001b[1;33m=\u001b[0m\u001b[1;34m' '\u001b[0m\u001b[1;33m,\u001b[0m \u001b[0mend\u001b[0m\u001b[1;33m=\u001b[0m\u001b[1;34m'\\n'\u001b[0m\u001b[1;33m,\u001b[0m \u001b[0mfile\u001b[0m\u001b[1;33m=\u001b[0m\u001b[1;32mNone\u001b[0m\u001b[1;33m,\u001b[0m \u001b[0mflush\u001b[0m\u001b[1;33m=\u001b[0m\u001b[1;32mFalse\u001b[0m\u001b[1;33m)\u001b[0m\u001b[1;33m\u001b[0m\u001b[1;33m\u001b[0m\u001b[0m\n",
      "\u001b[1;31mDocstring:\u001b[0m\n",
      "Prints the values to a stream, or to sys.stdout by default.\n",
      "\n",
      "sep\n",
      "  string inserted between values, default a space.\n",
      "end\n",
      "  string appended after the last value, default a newline.\n",
      "file\n",
      "  a file-like object (stream); defaults to the current sys.stdout.\n",
      "flush\n",
      "  whether to forcibly flush the stream.\n",
      "\u001b[1;31mType:\u001b[0m      builtin_function_or_method"
     ]
    }
   ],
   "source": [
    "??print"
   ]
  },
  {
   "cell_type": "code",
   "execution_count": 20,
   "metadata": {},
   "outputs": [
    {
     "name": "stdout",
     "output_type": "stream",
     "text": [
      "['Tahir', 'Shoaib', 'Tahirshoaib']\n",
      "['Muhammad Tahir', 'Shoaib', 'Tahirshoaib']\n"
     ]
    }
   ],
   "source": [
    "#                  0      1          2\n",
    "names : list[Any] = [\"Tahir\",\"Shoaib\",\"Tahirshoaib\"]\n",
    "#                   -3         2-            -1\n",
    "\n",
    "\n",
    "print(names)\n",
    "names[0]= \"Muhammad Tahir\"\n",
    "print(names)\n"
   ]
  },
  {
   "cell_type": "code",
   "execution_count": 11,
   "metadata": {},
   "outputs": [
    {
     "name": "stdout",
     "output_type": "stream",
     "text": [
      "['Tahir', 'Shoaib', 'Tahirshoaib', 20]\n",
      "['Tahir', 'Shoaib', 20]\n"
     ]
    }
   ],
   "source": [
    "#                  0      1          2\n",
    "names : list[any] = [\"Tahir\",\"Shoaib\",\"Tahirshoaib\",20]\n",
    "#                   -3         2-            -1\n",
    "\n",
    "print(names)\n",
    "\n",
    "del names[2]\n",
    "\n",
    "print(names)"
   ]
  },
  {
   "cell_type": "code",
   "execution_count": 25,
   "metadata": {},
   "outputs": [
    {
     "name": "stdout",
     "output_type": "stream",
     "text": [
      "Pakistan\n"
     ]
    },
    {
     "data": {
      "text/plain": [
       "None"
      ]
     },
     "metadata": {},
     "output_type": "display_data"
    }
   ],
   "source": [
    "a : str = print(\"Pakistan\") #non return fucntion\n",
    "\n",
    "display(a)"
   ]
  },
  {
   "cell_type": "code",
   "execution_count": 8,
   "metadata": {},
   "outputs": [
    {
     "data": {
      "text/plain": [
       "2595286823872"
      ]
     },
     "metadata": {},
     "output_type": "display_data"
    }
   ],
   "source": [
    "a :str = id(names)\n",
    "display(a)"
   ]
  },
  {
   "cell_type": "code",
   "execution_count": 16,
   "metadata": {},
   "outputs": [
    {
     "name": "stdout",
     "output_type": "stream",
     "text": [
      "['Tahir', 'Shoaib', 'Tahirshoaib', 20]\n",
      "Tahirshoaib\n"
     ]
    }
   ],
   "source": [
    "#                  0      1          2\n",
    "names : list[any] = [\"Tahir\",\"Shoaib\",\"Tahirshoaib\",20]\n",
    "#                   -3         2-            -1\n",
    "\n",
    "print(names)\n",
    "a : str = names.pop(2)\n",
    "print(a)"
   ]
  },
  {
   "cell_type": "code",
   "execution_count": null,
   "metadata": {},
   "outputs": [
    {
     "name": "stdout",
     "output_type": "stream",
     "text": [
      "[20, 'Tahir', 'Shoaib', 'TahirShoaib']\n"
     ]
    }
   ],
   "source": [
    "names : list[any]= [20]\n",
    "\n",
    "names.append(\"Tahir\")\n",
    "names.append(\"Shoaib\" )\n",
    "names.append(\"TahirShoaib\")\n",
    "\n",
    "print(names)"
   ]
  },
  {
   "cell_type": "code",
   "execution_count": 1,
   "metadata": {},
   "outputs": [
    {
     "name": "stdout",
     "output_type": "stream",
     "text": [
      "['Tahir', 'insert', 'Shoaib', 'Tahirshoaib', 20]\n"
     ]
    }
   ],
   "source": [
    "#                  0      1          2\n",
    "names : list[any] = [\"Tahir\",\"Shoaib\",\"Tahirshoaib\",20]\n",
    "#                   -3         2-            -1\n",
    "\n",
    "names.insert(1,\"insert\")\n",
    "\n",
    "print(names)\n"
   ]
  },
  {
   "cell_type": "code",
   "execution_count": 6,
   "metadata": {},
   "outputs": [
    {
     "ename": "NameError",
     "evalue": "name 'names' is not defined",
     "output_type": "error",
     "traceback": [
      "\u001b[1;31m---------------------------------------------------------------------------\u001b[0m",
      "\u001b[1;31mNameError\u001b[0m                                 Traceback (most recent call last)",
      "Cell \u001b[1;32mIn[6], line 5\u001b[0m\n\u001b[0;32m      3\u001b[0m \u001b[38;5;66;03m#                   -3         2-            -1\u001b[39;00m\n\u001b[0;32m      4\u001b[0m \u001b[38;5;28;01mdel\u001b[39;00m names\n\u001b[1;32m----> 5\u001b[0m \u001b[38;5;28mprint\u001b[39m(\u001b[43mnames\u001b[49m)\n",
      "\u001b[1;31mNameError\u001b[0m: name 'names' is not defined"
     ]
    }
   ],
   "source": [
    "#                  0      1          2\n",
    "names: list[any] = [\"Tahir\",\"Shoaib\",\"Tahirshoaib\",20]\n",
    "#                   -3         2-            -1\n",
    "del names\n",
    "print(names)"
   ]
  },
  {
   "cell_type": "code",
   "execution_count": 8,
   "metadata": {},
   "outputs": [
    {
     "name": "stdout",
     "output_type": "stream",
     "text": [
      "[]\n"
     ]
    }
   ],
   "source": [
    "#                  0      1          2\n",
    "names: list[any] = [\"Tahir\",\"Shoaib\",\"Tahirshoaib\",20]\n",
    "#                   -3         2-            -1\n",
    "names.clear()\n",
    "print(names)"
   ]
  },
  {
   "cell_type": "code",
   "execution_count": 9,
   "metadata": {},
   "outputs": [
    {
     "name": "stdout",
     "output_type": "stream",
     "text": [
      "['A', 'b', 'c']\n"
     ]
    }
   ],
   "source": [
    "a :list[str] =[\"A\",\"b\",\"c\"]\n",
    "b=a\n",
    "\n",
    "print(b)"
   ]
  },
  {
   "cell_type": "code",
   "execution_count": null,
   "metadata": {},
   "outputs": [
    {
     "name": "stdout",
     "output_type": "stream",
     "text": [
      "['Pakistan', 'b', 'c']\n",
      "['Pakistan', 'b', 'c']\n"
     ]
    }
   ],
   "source": [
    "a :list[str] =[\"A\",\"b\",\"c\"]\n",
    "b=a\n",
    "\n",
    "b[0]=\"Pakistan\"\n",
    "\n",
    "print(a)\n",
    "print(b)"
   ]
  },
  {
   "cell_type": "code",
   "execution_count": 12,
   "metadata": {},
   "outputs": [
    {
     "name": "stdout",
     "output_type": "stream",
     "text": [
      "['A', 'b', 'c']\n",
      "['Pakistan', 'b', 'c']\n"
     ]
    }
   ],
   "source": [
    "a :list[str] =[\"A\",\"b\",\"c\"]\n",
    "b=a.copy()\n",
    "\n",
    "b[0]=\"Pakistan\"\n",
    "\n",
    "print(a)\n",
    "print(b)"
   ]
  },
  {
   "cell_type": "code",
   "execution_count": 16,
   "metadata": {},
   "outputs": [
    {
     "name": "stdout",
     "output_type": "stream",
     "text": [
      "3\n",
      "['A', 'a', 'a', 'b', 'c', 'c', 'c']\n"
     ]
    }
   ],
   "source": [
    "a :list[str] =[\"A\",\"a\",\"a\",\"b\",\"c\",\"c\",\"c\"]\n",
    "\n",
    "\n",
    "print(a.count(\"c\"))\n",
    "print(a)"
   ]
  },
  {
   "cell_type": "code",
   "execution_count": null,
   "metadata": {},
   "outputs": [
    {
     "name": "stdout",
     "output_type": "stream",
     "text": [
      "['Tahir', 'Shoaib', ['Sawban', 'Shoaib']]\n",
      "['Tahir', 'Shoaib', ['Sawban', 'Shoaib'], 'Sawban', 'Shoaib']\n"
     ]
    }
   ],
   "source": [
    "name :list[str] = [\"Tahir\",\"Shoaib\"]\n",
    "\n",
    "othername :list[str] = [\"Sawban\",\"Shoaib\"]\n",
    "\n",
    "name.append(othername)\n",
    "print(name)\n",
    "\n"
   ]
  },
  {
   "cell_type": "code",
   "execution_count": 19,
   "metadata": {},
   "outputs": [
    {
     "name": "stdout",
     "output_type": "stream",
     "text": [
      "['Tahir', 'Shoaib', 'Sawban', 'Shoaib']\n"
     ]
    }
   ],
   "source": [
    "name :list[str] = [\"Tahir\",\"Shoaib\"]\n",
    "\n",
    "othername :list[str] = [\"Sawban\",\"Shoaib\"]\n",
    "\n",
    "name.extend(othername)\n",
    "print(name)"
   ]
  },
  {
   "cell_type": "code",
   "execution_count": 20,
   "metadata": {},
   "outputs": [
    {
     "data": {
      "text/plain": [
       "['Tahir']"
      ]
     },
     "execution_count": 20,
     "metadata": {},
     "output_type": "execute_result"
    }
   ],
   "source": [
    "name :list[str] = [\"Tahir\",\"Shoaib\"]\n",
    "\n",
    "name.remove(\"Shoaib\")\n",
    "\n",
    "name\n",
    "\n"
   ]
  },
  {
   "cell_type": "code",
   "execution_count": 21,
   "metadata": {},
   "outputs": [
    {
     "data": {
      "text/plain": [
       "['Shoaib', 'Tahir']"
      ]
     },
     "execution_count": 21,
     "metadata": {},
     "output_type": "execute_result"
    }
   ],
   "source": [
    "name :list[str] = [\"Tahir\",\"Shoaib\"]\n",
    "\n",
    "name.reverse()\n",
    "\n",
    "name"
   ]
  },
  {
   "cell_type": "code",
   "execution_count": 25,
   "metadata": {},
   "outputs": [
    {
     "name": "stdout",
     "output_type": "stream",
     "text": [
      "['a', 'b', 'c', 'c', 'd', 'e', 'f', 'g']\n"
     ]
    }
   ],
   "source": [
    "a : list[any]= list(\"accbdefg\")\n",
    "\n",
    "a.sort()\n",
    "\n",
    "print(a)"
   ]
  }
 ],
 "metadata": {
  "kernelspec": {
   "display_name": "python12",
   "language": "python",
   "name": "python3"
  },
  "language_info": {
   "codemirror_mode": {
    "name": "ipython",
    "version": 3
   },
   "file_extension": ".py",
   "mimetype": "text/x-python",
   "name": "python",
   "nbconvert_exporter": "python",
   "pygments_lexer": "ipython3",
   "version": "3.12.0"
  }
 },
 "nbformat": 4,
 "nbformat_minor": 2
}
