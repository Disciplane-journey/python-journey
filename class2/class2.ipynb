{
 "cells": [
  {
   "cell_type": "code",
   "execution_count": 2,
   "id": "613cb7ec",
   "metadata": {},
   "outputs": [
    {
     "name": "stdout",
     "output_type": "stream",
     "text": [
      "<class 'str'>\n",
      "Tahir\n"
     ]
    }
   ],
   "source": [
    "# boudries\n",
    "# \"string\", 'string' , '''string''', \"\"\"String\"\"\"\n",
    "\n",
    "namess : str = \"Tahir\"\n",
    "print(type(namess))\n",
    "print(namess)"
   ]
  },
  {
   "cell_type": "code",
   "execution_count": null,
   "id": "b5dd03b6",
   "metadata": {},
   "outputs": [],
   "source": [
    "namess : str = 'Tahir'\n",
    "print(type(namess))\n",
    "print(namess)"
   ]
  },
  {
   "cell_type": "code",
   "execution_count": 3,
   "id": "077288e8",
   "metadata": {},
   "outputs": [
    {
     "name": "stdout",
     "output_type": "stream",
     "text": [
      "<class 'str'>\n",
      "Student Id card \n",
      " father's names \n"
     ]
    }
   ],
   "source": [
    "namess : str = \"Student Id card \\n father's names \"\n",
    "print(type(namess))\n",
    "print(namess)"
   ]
  },
  {
   "cell_type": "code",
   "execution_count": null,
   "id": "a8cc8773",
   "metadata": {},
   "outputs": [
    {
     "name": "stdout",
     "output_type": "stream",
     "text": [
      "<class 'str'>\n",
      "Student Id card \n",
      " father's names  \n"
     ]
    }
   ],
   "source": [
    "# convert any special character into simple character place \\ before character \n",
    "\n",
    "namess : str = 'Student Id card \\n father\\'s names  '\n",
    "print(type(namess))\n",
    "print(namess)"
   ]
  },
  {
   "cell_type": "code",
   "execution_count": 11,
   "id": "2ccc9e6e",
   "metadata": {},
   "outputs": [
    {
     "name": "stdout",
     "output_type": "stream",
     "text": [
      "Piaic student card \n",
      "Student name : TahirShoaib\n",
      "age : 23\n"
     ]
    }
   ],
   "source": [
    "name: str = \"Tahir\"\n",
    "age : int = 23\n",
    "fathername : str = \"Shoaib\"\n",
    "\n",
    "card : str = \"Piaic student card \\nStudent name : \" + name + fathername + \"\\nage : \" + str(age)\n",
    "print(card)"
   ]
  },
  {
   "cell_type": "code",
   "execution_count": 13,
   "id": "19bc48ab",
   "metadata": {},
   "outputs": [
    {
     "name": "stdout",
     "output_type": "stream",
     "text": [
      "\n",
      "Piaic student card \n",
      "Student name : Tahir\n",
      "Father name : Shoaib\n",
      "Age : 23\n",
      "\n",
      "\n"
     ]
    }
   ],
   "source": [
    "name: str = \"Tahir\"\n",
    "age : int = 23\n",
    "fathername : str = \"Shoaib\"\n",
    "\n",
    "card : str = f\"\"\"\n",
    "Piaic student card \n",
    "Student name : {name}\n",
    "Father name : {fathername}\n",
    "Age : {age}\n",
    "\n",
    "\"\"\"\n",
    "print(card)"
   ]
  },
  {
   "cell_type": "code",
   "execution_count": 14,
   "id": "27a3df5e",
   "metadata": {},
   "outputs": [
    {
     "name": "stdout",
     "output_type": "stream",
     "text": [
      "\n",
      "Piaic student card \n",
      "Student name : Tahir\n",
      "Father name : Shoaib\n",
      "Age : 23\n",
      "\n",
      "\n"
     ]
    }
   ],
   "source": [
    "name: str = \"Tahir\"\n",
    "age : int = 23\n",
    "fathername : str = \"Shoaib\"\n",
    "\n",
    "card : str = f'''\n",
    "Piaic student card \n",
    "Student name : {name}\n",
    "Father name : {fathername}\n",
    "Age : {age}\n",
    "\n",
    "'''\n",
    "print(card)"
   ]
  },
  {
   "cell_type": "code",
   "execution_count": null,
   "id": "e4fb3e3e",
   "metadata": {},
   "outputs": [
    {
     "name": "stdout",
     "output_type": "stream",
     "text": [
      "\n",
      "Student name : {{name}}\n",
      "\n"
     ]
    }
   ],
   "source": [
    "# Jinja techniq\n",
    "name = \"tahiir\"\n",
    "card : str =\"\"\"\n",
    "\n",
    "Student name : {{name}}\n",
    "\"\"\"\n",
    "print(card)"
   ]
  },
  {
   "cell_type": "code",
   "execution_count": 1,
   "id": "761caeb5",
   "metadata": {},
   "outputs": [
    {
     "name": "stdout",
     "output_type": "stream",
     "text": [
      "\n",
      "PIAIC Student Card\n",
      "Student Name : Muhammad Qasim\n",
      "Father's Name: Muhammad Aslam\n",
      "Age: 30\n",
      "Education : Master in Data Science\n",
      "\n",
      "\n"
     ]
    }
   ],
   "source": [
    "name : str = 'Muhammad Qasim'\n",
    "fname : str = \"Muhammad Aslam\"\n",
    "education : str = \"Master in Data Science\"\n",
    "age : int = 30\n",
    "\n",
    "\n",
    "card : str = f\"\"\"\n",
    "PIAIC Student Card\n",
    "Student Name : %s\n",
    "Father's Name: %s\n",
    "Age: %d\n",
    "Education : %s\n",
    "\n",
    "\"\"\" % (name, fname, age, education)\n",
    "\n",
    "print(card)"
   ]
  },
  {
   "cell_type": "code",
   "execution_count": 2,
   "id": "70828cb9",
   "metadata": {},
   "outputs": [
    {
     "data": {
      "text/plain": [
       "['capitalize',\n",
       " 'casefold',\n",
       " 'center',\n",
       " 'count',\n",
       " 'encode',\n",
       " 'endswith',\n",
       " 'expandtabs',\n",
       " 'find',\n",
       " 'format',\n",
       " 'format_map',\n",
       " 'index',\n",
       " 'isalnum',\n",
       " 'isalpha',\n",
       " 'isascii',\n",
       " 'isdecimal',\n",
       " 'isdigit',\n",
       " 'isidentifier',\n",
       " 'islower',\n",
       " 'isnumeric',\n",
       " 'isprintable',\n",
       " 'isspace',\n",
       " 'istitle',\n",
       " 'isupper',\n",
       " 'join',\n",
       " 'ljust',\n",
       " 'lower',\n",
       " 'lstrip',\n",
       " 'maketrans',\n",
       " 'partition',\n",
       " 'removeprefix',\n",
       " 'removesuffix',\n",
       " 'replace',\n",
       " 'rfind',\n",
       " 'rindex',\n",
       " 'rjust',\n",
       " 'rpartition',\n",
       " 'rsplit',\n",
       " 'rstrip',\n",
       " 'split',\n",
       " 'splitlines',\n",
       " 'startswith',\n",
       " 'strip',\n",
       " 'swapcase',\n",
       " 'title',\n",
       " 'translate',\n",
       " 'upper',\n",
       " 'zfill']"
      ]
     },
     "execution_count": 2,
     "metadata": {},
     "output_type": "execute_result"
    }
   ],
   "source": [
    "[i for i in dir(str) if \"__\" not in i]"
   ]
  },
  {
   "cell_type": "code",
   "execution_count": 3,
   "id": "bd4e1760",
   "metadata": {},
   "outputs": [
    {
     "data": {
      "text/plain": [
       "'pakistan value a = 7 and value b = 8'"
      ]
     },
     "execution_count": 3,
     "metadata": {},
     "output_type": "execute_result"
    }
   ],
   "source": [
    "a = 7\n",
    "b = 8\n",
    "# {} place holder\n",
    "#                   0                1          0 1\n",
    "\"pakistan value a = {} and value b = {}\".format(a,b)"
   ]
  },
  {
   "cell_type": "code",
   "execution_count": 4,
   "id": "6403ab08",
   "metadata": {},
   "outputs": [
    {
     "data": {
      "text/plain": [
       "'pakistan value a = 7 and value b = 8'"
      ]
     },
     "execution_count": 4,
     "metadata": {},
     "output_type": "execute_result"
    }
   ],
   "source": [
    "# {} place holder\n",
    "#                   0                1          0 1\n",
    "\"pakistan value a = {} and value b = {}\".format(a,b)"
   ]
  },
  {
   "cell_type": "code",
   "execution_count": 5,
   "id": "e6545e09",
   "metadata": {},
   "outputs": [
    {
     "name": "stdout",
     "output_type": "stream",
     "text": [
      "Muhammad qasim\n",
      "muhammad qasim\n"
     ]
    }
   ],
   "source": [
    "name : str = \"MUhAMMad QaSiM\"\n",
    "\n",
    "print(name.capitalize())\n",
    "print(name.lower())"
   ]
  },
  {
   "cell_type": "code",
   "execution_count": 6,
   "id": "94ac31f2",
   "metadata": {},
   "outputs": [
    {
     "name": "stdout",
     "output_type": "stream",
     "text": [
      "\n",
      "PIAIC Student Card\n",
      "Student Name : Muhammad Qasim\n",
      "Father's Name: Muhammad Aslam\n",
      "Age: 30\n",
      "Education : Master in Data Science\n",
      "\n",
      "Total 22\n",
      "\n"
     ]
    }
   ],
   "source": [
    "name : str = 'Muhammad Qasim'\n",
    "fname : str = \"Muhammad Aslam\"\n",
    "education : str = \"Master in Data Science\"\n",
    "age : int = 30\n",
    "\n",
    "\n",
    "card : str = f\"\"\"\n",
    "PIAIC Student Card\n",
    "Student Name : {name}\n",
    "Father's Name: {fname}\n",
    "Age: {age}\n",
    "Education : {education}\n",
    "\n",
    "Total {2 + 8 + 9 + 3}\n",
    "\"\"\"\n",
    "\n",
    "print(card)"
   ]
  },
  {
   "cell_type": "code",
   "execution_count": 7,
   "id": "1075b478",
   "metadata": {},
   "outputs": [
    {
     "name": "stdout",
     "output_type": "stream",
     "text": [
      "\n",
      "PIAIC Student Card\n",
      "Student Name : Muhammad Aslam\n",
      "Father's Name: Muhammad Qasim\n",
      "Age: Master in Data Science\n",
      "Education : 30\n",
      "\n"
     ]
    }
   ],
   "source": [
    "name : str = 'Muhammad Qasim'\n",
    "fname : str = \"Muhammad Aslam\"\n",
    "education : str = \"Master in Data Science\"\n",
    "age : int = 30\n",
    "\n",
    "\n",
    "card : str = \"\"\"\n",
    "PIAIC Student Card\n",
    "Student Name : {}\n",
    "Father's Name: {}\n",
    "Age: {}\n",
    "Education : {}\n",
    "\"\"\".format(fname, name, education, age)\n",
    "\n",
    "print(card)"
   ]
  },
  {
   "cell_type": "code",
   "execution_count": 10,
   "id": "3131527d",
   "metadata": {},
   "outputs": [],
   "source": [
    "name : str = 'Muhammad Qasim'\n",
    "fname : str = \"Muhammad Aslam\"\n",
    "education : str = \"Master in Data Science\"\n",
    "age : int = 30\n",
    "\n",
    "\n",
    "card : str = \"\"\"\n",
    "PIAIC Student Card\n",
    "Student Name : {1}\n",
    "Father's Name: {0}\n",
    "Age: {3}\n",
    "Education : {2}\n",
    "\"\"\".format(fname, name, education, age)\n",
    "#           0      1       2        3\n"
   ]
  },
  {
   "cell_type": "code",
   "execution_count": 11,
   "id": "bfa9b7e7",
   "metadata": {},
   "outputs": [
    {
     "name": "stdout",
     "output_type": "stream",
     "text": [
      "\n",
      "PIAIC Student Card\n",
      "Student Name : Muhammad Qasim\n",
      "Father's Name: Muhammad Aslam\n",
      "Age: 30\n",
      "Education : Master in Data Science\n",
      "\n"
     ]
    }
   ],
   "source": [
    "name : str = 'Muhammad Qasim'\n",
    "fname : str = \"Muhammad Aslam\"\n",
    "education : str = \"Master in Data Science\"\n",
    "age : int = 30\n",
    "\n",
    "\n",
    "card : str = \"\"\"\n",
    "PIAIC Student Card\n",
    "Student Name : {a}\n",
    "Father's Name: {b}\n",
    "Age: {c}\n",
    "Education : {d}\n",
    "\"\"\".format(a=name, b=fname, c=age, d=education)\n",
    "\n",
    "\n",
    "print(card)"
   ]
  },
  {
   "cell_type": "code",
   "execution_count": 12,
   "id": "1d607382",
   "metadata": {},
   "outputs": [
    {
     "name": "stdout",
     "output_type": "stream",
     "text": [
      "\n",
      "PIAIC Student Card\n",
      "Student Name : Muhammad Qasim\n",
      "Father's Name: Muhammad Aslam\n",
      "Age: 30\n",
      "Education : Master in Data Science\n",
      "\n"
     ]
    }
   ],
   "source": [
    "name : str = 'Muhammad Qasim'\n",
    "fname : str = \"Muhammad Aslam\"\n",
    "education : str = \"Master in Data Science\"\n",
    "age : int = 30\n",
    "\n",
    "\n",
    "card : str = f\"\"\"\n",
    "PIAIC Student Card\n",
    "Student Name : {name}\n",
    "Father's Name: {fname}\n",
    "Age: {age}\n",
    "Education : {education}\n",
    "\"\"\"\n",
    "\n",
    "print(card)"
   ]
  },
  {
   "cell_type": "code",
   "execution_count": 13,
   "id": "51424f3d",
   "metadata": {},
   "outputs": [
    {
     "name": "stdout",
     "output_type": "stream",
     "text": [
      "My Name is Muhammad Qasim\n",
      "15\n"
     ]
    }
   ],
   "source": [
    "student_code : str = \"\"\"\n",
    "print(\"My Name is Muhammad Qasim\")\n",
    "a:int = 7\n",
    "b:int = 8\n",
    "print(a + b)\n",
    "\"\"\"\n",
    "\n",
    "exec(student_code)"
   ]
  },
  {
   "cell_type": "code",
   "execution_count": 14,
   "id": "76093530",
   "metadata": {},
   "outputs": [
    {
     "name": "stdout",
     "output_type": "stream",
     "text": [
      "['capitalize', 'casefold', 'center', 'count', 'encode', 'endswith', 'expandtabs', 'find', 'format', 'format_map', 'index', 'isalnum', 'isalpha', 'isascii', 'isdecimal', 'isdigit', 'isidentifier', 'islower', 'isnumeric', 'isprintable', 'isspace', 'istitle', 'isupper', 'join', 'ljust', 'lower', 'lstrip', 'maketrans', 'partition', 'removeprefix', 'removesuffix', 'replace', 'rfind', 'rindex', 'rjust', 'rpartition', 'rsplit', 'rstrip', 'split', 'splitlines', 'startswith', 'strip', 'swapcase', 'title', 'translate', 'upper', 'zfill']\n",
      "47\n"
     ]
    }
   ],
   "source": [
    "a: list[str] = [i for i in dir(str) if \"__\" not in i]\n",
    "print(a)\n",
    "print(len(a))"
   ]
  },
  {
   "cell_type": "code",
   "execution_count": 15,
   "id": "eff90608",
   "metadata": {},
   "outputs": [
    {
     "name": "stdout",
     "output_type": "stream",
     "text": [
      "Muhammad qasim\n"
     ]
    }
   ],
   "source": [
    "name : str = \"MuHammAd QasIm\"\n",
    "\n",
    "#variable_name.method()\n",
    "print(name.capitalize())"
   ]
  },
  {
   "cell_type": "code",
   "execution_count": 16,
   "id": "581ae03c",
   "metadata": {},
   "outputs": [
    {
     "name": "stdout",
     "output_type": "stream",
     "text": [
      "MuHammAd QasIm\n",
      "muhammad qasim\n"
     ]
    }
   ],
   "source": [
    "name : str = \"MuHammAd QasIm\"\n",
    "\n",
    "#variable_name.method()\n",
    "print(name)\n",
    "print(name.casefold())"
   ]
  },
  {
   "cell_type": "code",
   "execution_count": 17,
   "id": "da48fb21",
   "metadata": {},
   "outputs": [
    {
     "name": "stdout",
     "output_type": "stream",
     "text": [
      "MuHammAd QasIm\n",
      "muhammad qasim\n"
     ]
    }
   ],
   "source": [
    "name : str = \"MuHammAd QasIm\"\n",
    "\n",
    "#variable_name.method()\n",
    "print(name)\n",
    "print(name.lower())"
   ]
  },
  {
   "cell_type": "code",
   "execution_count": 18,
   "id": "11649d4b",
   "metadata": {},
   "outputs": [
    {
     "data": {
      "text/plain": [
       "'      MuHammAd QasIm         '"
      ]
     },
     "metadata": {},
     "output_type": "display_data"
    },
    {
     "data": {
      "text/plain": [
       "'MuHammAd QasIm         '"
      ]
     },
     "metadata": {},
     "output_type": "display_data"
    }
   ],
   "source": [
    "name : str = \"      MuHammAd QasIm         \"\n",
    "\n",
    "#variable_name.method()\n",
    "display(name)\n",
    "display(name.lstrip())"
   ]
  },
  {
   "cell_type": "code",
   "execution_count": 19,
   "id": "69ac4851",
   "metadata": {},
   "outputs": [
    {
     "data": {
      "text/plain": [
       "'      MuHammAd QasIm         '"
      ]
     },
     "metadata": {},
     "output_type": "display_data"
    },
    {
     "data": {
      "text/plain": [
       "'      MuHammAd QasIm'"
      ]
     },
     "metadata": {},
     "output_type": "display_data"
    }
   ],
   "source": [
    "name : str = \"      MuHammAd QasIm         \"\n",
    "\n",
    "#variable_name.method()\n",
    "display(name)\n",
    "display(name.rstrip())"
   ]
  },
  {
   "cell_type": "code",
   "execution_count": 20,
   "id": "d124f849",
   "metadata": {},
   "outputs": [
    {
     "data": {
      "text/plain": [
       "'      MuHammAd QasIm         '"
      ]
     },
     "metadata": {},
     "output_type": "display_data"
    },
    {
     "data": {
      "text/plain": [
       "'MuHammAd QasIm'"
      ]
     },
     "metadata": {},
     "output_type": "display_data"
    }
   ],
   "source": [
    "name : str = \"      MuHammAd QasIm         \"\n",
    "\n",
    "#variable_name.method()\n",
    "display(name)\n",
    "display(name.strip())"
   ]
  },
  {
   "cell_type": "code",
   "execution_count": 21,
   "id": "0c083f99",
   "metadata": {},
   "outputs": [
    {
     "data": {
      "text/plain": [
       "'      MuHammAd       QasIm         '"
      ]
     },
     "metadata": {},
     "output_type": "display_data"
    },
    {
     "data": {
      "text/plain": [
       "'MuHammAd       QasIm'"
      ]
     },
     "metadata": {},
     "output_type": "display_data"
    }
   ],
   "source": [
    "name : str = \"      MuHammAd       QasIm         \"\n",
    "\n",
    "#variable_name.method()\n",
    "display(name)\n",
    "display(name.strip())"
   ]
  },
  {
   "cell_type": "code",
   "execution_count": 22,
   "id": "dad31e0f",
   "metadata": {},
   "outputs": [
    {
     "data": {
      "text/plain": [
       "'      MuHammAd           QasIm         '"
      ]
     },
     "metadata": {},
     "output_type": "display_data"
    },
    {
     "data": {
      "text/plain": [
       "'MuHammAd QasIm'"
      ]
     },
     "metadata": {},
     "output_type": "display_data"
    }
   ],
   "source": [
    "\n",
    "import re\n",
    "\n",
    "name : str = \"      MuHammAd           QasIm         \"\n",
    "\n",
    "display(name)\n",
    "\n",
    "name1 : str = re.sub(' {2,100}',' ', name).strip()\n",
    "display(name1)"
   ]
  },
  {
   "cell_type": "code",
   "execution_count": 23,
   "id": "ffc9762c",
   "metadata": {},
   "outputs": [
    {
     "data": {
      "text/plain": [
       "'MuHammAd QasIm'"
      ]
     },
     "metadata": {},
     "output_type": "display_data"
    },
    {
     "data": {
      "text/plain": [
       "'Muhammad Qasim'"
      ]
     },
     "metadata": {},
     "output_type": "display_data"
    }
   ],
   "source": [
    "name : str = \"MuHammAd QasIm\"\n",
    "\n",
    "#variable_name.method()\n",
    "display(name)\n",
    "display(name.title())"
   ]
  },
  {
   "cell_type": "code",
   "execution_count": 24,
   "id": "9a5bb65c",
   "metadata": {},
   "outputs": [
    {
     "name": "stdout",
     "output_type": "stream",
     "text": [
      "ADA LOVELACE\n",
      "ada lovelace\n"
     ]
    }
   ],
   "source": [
    "name:str = \"Ada Lovelace\"\n",
    "print(name.upper())\n",
    "print(name.lower())"
   ]
  },
  {
   "cell_type": "code",
   "execution_count": 25,
   "id": "89c57d73",
   "metadata": {},
   "outputs": [
    {
     "name": "stdout",
     "output_type": "stream",
     "text": [
      "Name:\t\t Muhammad Qasim\n"
     ]
    }
   ],
   "source": [
    "print(\"Name:\\t\\t Muhammad Qasim\")"
   ]
  },
  {
   "cell_type": "code",
   "execution_count": 26,
   "id": "0953d3af",
   "metadata": {},
   "outputs": [
    {
     "name": "stdout",
     "output_type": "stream",
     "text": [
      "Name:\n",
      "Muhammad Qasim\n"
     ]
    }
   ],
   "source": [
    "print(\"Name:\\nMuhammad Qasim\")"
   ]
  },
  {
   "cell_type": "code",
   "execution_count": 27,
   "id": "35848843",
   "metadata": {},
   "outputs": [
    {
     "name": "stdout",
     "output_type": "stream",
     "text": [
      "NameMuhammad Qasim\n"
     ]
    }
   ],
   "source": [
    "print(\"Name:\\bMuhammad Qasim\")"
   ]
  },
  {
   "cell_type": "code",
   "execution_count": 28,
   "id": "1cd5e28a",
   "metadata": {},
   "outputs": [
    {
     "data": {
      "text/plain": [
       "'nostarch.com'"
      ]
     },
     "execution_count": 28,
     "metadata": {},
     "output_type": "execute_result"
    }
   ],
   "source": [
    "nostarch_url:str = 'https://nostarch.com'\n",
    "nostarch_url.removeprefix('https://')"
   ]
  },
  {
   "cell_type": "code",
   "execution_count": 29,
   "id": "a7fe32e2",
   "metadata": {},
   "outputs": [
    {
     "ename": "SyntaxError",
     "evalue": "invalid decimal literal (2214117265.py, line 1)",
     "output_type": "error",
     "traceback": [
      "\u001b[1;36m  Cell \u001b[1;32mIn[29], line 1\u001b[1;36m\u001b[0m\n\u001b[1;33m    1name : str = \"Qasim\"\u001b[0m\n\u001b[1;37m    ^\u001b[0m\n\u001b[1;31mSyntaxError\u001b[0m\u001b[1;31m:\u001b[0m invalid decimal literal\n"
     ]
    }
   ],
   "source": [
    "1name : str = \"Qasim\"\n",
    "print(1name)"
   ]
  },
  {
   "cell_type": "code",
   "execution_count": 30,
   "id": "ec867bc0",
   "metadata": {},
   "outputs": [
    {
     "name": "stdout",
     "output_type": "stream",
     "text": [
      "Qasim\n"
     ]
    }
   ],
   "source": [
    "_1name : str = \"Qasim\"\n",
    "print(_1name)"
   ]
  },
  {
   "cell_type": "code",
   "execution_count": 31,
   "id": "de2a368c",
   "metadata": {},
   "outputs": [
    {
     "ename": "SyntaxError",
     "evalue": "invalid syntax (379964243.py, line 1)",
     "output_type": "error",
     "traceback": [
      "\u001b[1;36m  Cell \u001b[1;32mIn[31], line 1\u001b[1;36m\u001b[0m\n\u001b[1;33m    piaic student name : str = \"Muhammad Qasim\"\u001b[0m\n\u001b[1;37m          ^\u001b[0m\n\u001b[1;31mSyntaxError\u001b[0m\u001b[1;31m:\u001b[0m invalid syntax\n"
     ]
    }
   ],
   "source": [
    "piaic student name : str = \"Muhammad Qasim\"\n",
    "print(piaic student name)"
   ]
  },
  {
   "cell_type": "code",
   "execution_count": 32,
   "id": "055f419d",
   "metadata": {},
   "outputs": [
    {
     "name": "stdout",
     "output_type": "stream",
     "text": [
      "Muhammad Qasim\n"
     ]
    }
   ],
   "source": [
    "piaic_student_name : str = \"Muhammad Qasim\"\n",
    "print(piaic_student_name)"
   ]
  }
 ],
 "metadata": {
  "kernelspec": {
   "display_name": "python12",
   "language": "python",
   "name": "python3"
  },
  "language_info": {
   "codemirror_mode": {
    "name": "ipython",
    "version": 3
   },
   "file_extension": ".py",
   "mimetype": "text/x-python",
   "name": "python",
   "nbconvert_exporter": "python",
   "pygments_lexer": "ipython3",
   "version": "3.12.0"
  }
 },
 "nbformat": 4,
 "nbformat_minor": 5
}
