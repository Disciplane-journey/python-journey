{
 "cells": [
  {
   "cell_type": "markdown",
   "metadata": {},
   "source": [
    "# Loop and input from user "
   ]
  },
  {
   "cell_type": "code",
   "execution_count": 5,
   "metadata": {},
   "outputs": [
    {
     "name": "stdout",
     "output_type": "stream",
     "text": [
      "current character : 1\n",
      "current character : 2\n",
      "current character : 3\n",
      "current character : 4\n",
      "current character : 5\n",
      "current character : 6\n"
     ]
    }
   ],
   "source": [
    "iteration : list[str]= [\"1\",\"2\",\"3\",\"4\",\"5\",\"6\"]\n",
    "\n",
    "for i in iteration:\n",
    "  print(f\"current character : {i}\")"
   ]
  },
  {
   "cell_type": "code",
   "execution_count": 6,
   "metadata": {},
   "outputs": [
    {
     "name": "stdout",
     "output_type": "stream",
     "text": [
      "current character : 1\n",
      "current character : 2\n",
      "current character : 3\n",
      "current character : 4\n",
      "current character : 5\n",
      "current character : 6\n"
     ]
    }
   ],
   "source": [
    "iteration : tuple[str]= (\"1\",\"2\",\"3\",\"4\",\"5\",\"6\")\n",
    "\n",
    "for i in iteration:\n",
    "  print(f\"current character : {i}\")"
   ]
  },
  {
   "cell_type": "code",
   "execution_count": 7,
   "metadata": {},
   "outputs": [
    {
     "name": "stdout",
     "output_type": "stream",
     "text": [
      "current character : P\n",
      "current character : a\n",
      "current character : k\n",
      "current character : i\n",
      "current character : s\n",
      "current character : t\n",
      "current character : a\n",
      "current character : n\n"
     ]
    }
   ],
   "source": [
    "iteration : str= \"Pakistan\"\n",
    "\n",
    "for i in iteration:\n",
    "  print(f\"current character : {i}\")"
   ]
  },
  {
   "cell_type": "code",
   "execution_count": 12,
   "metadata": {},
   "outputs": [
    {
     "name": "stdout",
     "output_type": "stream",
     "text": [
      "dictionary key : name and value is: Tahir\n",
      "dictionary key : fname and value is: Shoaib\n"
     ]
    }
   ],
   "source": [
    "iteration : dict[str,str]= {\"name\":\"Tahir\", \"fname\": \"Shoaib\"}\n",
    "\n",
    "for i in iteration:\n",
    "  print(f\"dictionary key : {i} and value is: {iteration[i]}\")"
   ]
  },
  {
   "cell_type": "code",
   "execution_count": 13,
   "metadata": {},
   "outputs": [
    {
     "name": "stdout",
     "output_type": "stream",
     "text": [
      "current character : 1\n",
      "current character : 2\n",
      "current character : 3\n",
      "current character : 5\n",
      "current character : 11\n",
      "current character : 44\n"
     ]
    }
   ],
   "source": [
    "iteration : list[set[int]]= list({1,1,2,2,11,1,44,3,5,5})\n",
    "\n",
    "for i in iteration:\n",
    "  print(f\"current character : {i}\")"
   ]
  },
  {
   "cell_type": "code",
   "execution_count": 15,
   "metadata": {},
   "outputs": [
    {
     "name": "stdout",
     "output_type": "stream",
     "text": [
      "Current number is : 0\n",
      "Current number is : 1\n",
      "Current number is : 2\n",
      "Current number is : 3\n",
      "Current number is : 4\n",
      "Current number is : 5\n",
      "Current number is : 6\n",
      "Current number is : 7\n",
      "Current number is : 8\n",
      "Current number is : 9\n"
     ]
    }
   ],
   "source": [
    "# input function  default type string\n",
    "# sys.argv( for console input in abc.file)  defaut type = object\n",
    "\n",
    "flag :bool = True\n",
    "\n",
    "current_number: int = 0\n",
    "\n",
    "while flag:\n",
    "  print(f\"Current number is : {current_number}\")\n",
    "  current_number += 1\n",
    "\n",
    "  if current_number == 10:\n",
    "    break\n",
    "\n"
   ]
  },
  {
   "cell_type": "code",
   "execution_count": 16,
   "metadata": {},
   "outputs": [
    {
     "name": "stdout",
     "output_type": "stream",
     "text": [
      "Current index is : 0 and value is : 100\n",
      "Current index is : 1 and value is : 200\n",
      "Current index is : 2 and value is : 300\n"
     ]
    }
   ],
   "source": [
    "l1 : list[int] = [100,200,300]\n",
    "\n",
    "index: int = 0\n",
    "\n",
    "while index < len(l1):\n",
    "  print(f\"Current index is : {index} and value is : {l1[index]}\")\n",
    "  index += 1\n",
    "\n",
    "  "
   ]
  },
  {
   "cell_type": "code",
   "execution_count": 18,
   "metadata": {},
   "outputs": [
    {
     "name": "stdout",
     "output_type": "stream",
     "text": [
      "write quite or exit to stop this program\n",
      "[{'name': 'Tahir', 'education': 'Inter'}]\n",
      "write quite or exit to stop this program\n"
     ]
    }
   ],
   "source": [
    "data : list[dict[str,str]] = []\n",
    "\n",
    "flag :bool = True\n",
    "while flag:\n",
    "  print(\"write quite or exit to stop this program\")\n",
    "  name : str = input(\"Enter your name\")\n",
    "  education: str = input(\"Enter your education\")\n",
    "\n",
    "  if name in [\"exit\",\"quite\",\"stop\"] or education in [\"exit\",\"quite\",\"stop\"]:\n",
    "    flag=False\n",
    "    break\n",
    "\n",
    "  data.append({\"name\":name,\n",
    "               \"education\":education})\n",
    "  print(data)\n",
    "\n"
   ]
  },
  {
   "cell_type": "code",
   "execution_count": 22,
   "metadata": {},
   "outputs": [
    {
     "name": "stdout",
     "output_type": "stream",
     "text": [
      "1\n",
      "2\n",
      "3\n",
      "4\n",
      "6\n",
      "7\n",
      "8\n",
      "9\n",
      "10\n"
     ]
    }
   ],
   "source": [
    "for i in range(1,11):\n",
    "  if i==5:\n",
    "   continue\n",
    "  print(i)"
   ]
  },
  {
   "cell_type": "code",
   "execution_count": 23,
   "metadata": {},
   "outputs": [],
   "source": [
    "for i in range(1,10):\n",
    "  pass"
   ]
  },
  {
   "cell_type": "code",
   "execution_count": 1,
   "metadata": {},
   "outputs": [
    {
     "name": "stdout",
     "output_type": "stream",
     "text": [
      "a\n",
      "s\n",
      "s\n",
      "s\n",
      "s\n",
      "s\n",
      "s\n",
      "s\n",
      "s\n"
     ]
    }
   ],
   "source": [
    "prompt :str = \"/nTell me something, and I will repeat it back to you:\"\n",
    "prompt += \"/nEnter 'quit' to end the program\"\n",
    "\n",
    "active = True\n",
    "\n",
    "while active:\n",
    "  massage = input(prompt)\n",
    "\n",
    "  if massage==\"quit\":\n",
    "    active = False\n",
    "  else:\n",
    "    print(massage)"
   ]
  },
  {
   "cell_type": "code",
   "execution_count": null,
   "metadata": {},
   "outputs": [
    {
     "name": "stdout",
     "output_type": "stream",
     "text": [
      "1\n",
      "3\n",
      "5\n",
      "7\n",
      "9\n"
     ]
    }
   ],
   "source": [
    "current_numbers = 0\n",
    "while current_numbers < 10:\n",
    "  current_numbers += 1\n",
    "  if current_numbers % 2 == 0: # even number !=0\n",
    "   continue\n",
    "  print(current_numbers)\n"
   ]
  },
  {
   "cell_type": "code",
   "execution_count": 12,
   "metadata": {},
   "outputs": [
    {
     "name": "stdout",
     "output_type": "stream",
     "text": [
      "Verifying user: Candace\n",
      "Verifying user: Brian\n",
      "Verifying user: Alice\n",
      "\n",
      "The following users have been confirmed:\n",
      "Candace\n",
      "Brian\n",
      "Alice\n"
     ]
    }
   ],
   "source": [
    "# Start with users that need to be verified,\n",
    "# and an empty list to hold confirmed users.\n",
    "unconfirmed_users : list[str] = ['alice', 'brian', 'candace']\n",
    "confirmed_users : list[str] = []\n",
    "  # Verify each user until there are no more unconfirmed users.\n",
    "# Move each verified user into the list of confirmed users. 2 \n",
    "while unconfirmed_users:\n",
    "    current_user = unconfirmed_users.pop()\n",
    "    print(f\"Verifying user: {current_user.title()}\")\n",
    "    confirmed_users.append(current_user)\n",
    "# Display all confirmed users.\n",
    "print(\"\\nThe following users have been confirmed:\")\n",
    "for confirmed_user in confirmed_users:\n",
    "    print(confirmed_user.title())"
   ]
  },
  {
   "cell_type": "code",
   "execution_count": 13,
   "metadata": {},
   "outputs": [
    {
     "name": "stdout",
     "output_type": "stream",
     "text": [
      "['dog', 'cat', 'dog', 'goldfish', 'cat', 'rabbit', 'cat']\n",
      "['dog', 'dog', 'goldfish', 'rabbit']\n"
     ]
    }
   ],
   "source": [
    "pets = ['dog', 'cat', 'dog', 'goldfish', 'cat', 'rabbit', 'cat'] \n",
    "print(pets)\n",
    "\n",
    "while 'cat' in pets:\n",
    "    pets.remove('cat')\n",
    "print(pets)"
   ]
  }
 ],
 "metadata": {
  "kernelspec": {
   "display_name": "Python 3",
   "language": "python",
   "name": "python3"
  },
  "language_info": {
   "codemirror_mode": {
    "name": "ipython",
    "version": 3
   },
   "file_extension": ".py",
   "mimetype": "text/x-python",
   "name": "python",
   "nbconvert_exporter": "python",
   "pygments_lexer": "ipython3",
   "version": "3.12.6"
  }
 },
 "nbformat": 4,
 "nbformat_minor": 2
}
