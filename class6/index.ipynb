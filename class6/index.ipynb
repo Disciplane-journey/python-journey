{
 "cells": [
  {
   "cell_type": "code",
   "execution_count": 20,
   "metadata": {},
   "outputs": [
    {
     "data": {
      "text/plain": [
       "[(2, 990, 'C'), (1, 99, 'B'), (0, 88, 'A')]"
      ]
     },
     "execution_count": 20,
     "metadata": {},
     "output_type": "execute_result"
    }
   ],
   "source": [
    "from typing import Union\n",
    "\n",
    "per :Union [int,float] = [88,99,990,22,33,44]\n",
    "grade: list[str]=[\"A\",\"B\",\"C\"]\n",
    "\n",
    "\n",
    "rollno=list(range(len(per)))\n",
    "\n",
    "data_base=list(zip(rollno,per,grade))\n",
    "\n",
    "sorted(data_base, key=lambda x:x[1], reverse=True)\n",
    "\n",
    "\n"
   ]
  },
  {
   "cell_type": "code",
   "execution_count": null,
   "metadata": {},
   "outputs": [],
   "source": [
    "# if-else\n",
    "\n",
    "\"\"\"\n",
    "\n",
    "if logic:\n",
    "  True_block\n",
    "    \n",
    "else:\n",
    "  False_block\n",
    "\n",
    "\"\"\"\n",
    "\n",
    "# Comprehensive if-else\n",
    "\n",
    "# True_block if logic else False_block"
   ]
  },
  {
   "cell_type": "code",
   "execution_count": null,
   "metadata": {},
   "outputs": [
    {
     "name": "stdout",
     "output_type": "stream",
     "text": [
      "logic3\n",
      "pakistan\n"
     ]
    }
   ],
   "source": [
    "# We start with the if statement, which is used to apply a certain logic.\n",
    "# If the condition inside if is True, the code inside that block will execute.\n",
    "\n",
    "# If the condition is False, we can use the else block — it runs only when all previous conditions fail.\n",
    "\n",
    "# But what if we need multiple conditions?\n",
    "# That’s where elif (short for else if) comes in.\n",
    "\n",
    "# We use elif when we want to check more than one possible condition.\n",
    "# Each elif is checked one by one, from top to bottom.\n",
    "# As soon as one of them becomes True, Python executes that block and skips the rest — even if other conditions below are also true.\n",
    "\n",
    "if False:\n",
    "  print(\"True_block\")\n",
    "elif False:\n",
    "  print(\"logic1\")\n",
    "elif False:\n",
    "  print(\"logic2\")\n",
    "elif True:\n",
    "  print(\"logic3\")\n",
    "else:\n",
    "  print(\"final else_block\")\n",
    "\n",
    "print(\"pakistan\")\n",
    "\n"
   ]
  },
  {
   "cell_type": "code",
   "execution_count": null,
   "metadata": {},
   "outputs": [
    {
     "name": "stdout",
     "output_type": "stream",
     "text": [
      "Student marks is 82 and student grade is A+ \n"
     ]
    }
   ],
   "source": [
    "from typing import Union \n",
    "\n",
    "per : Union[int,float] = float(input(\"Enter your Marks\")) \n",
    "\n",
    "grade : Union[str,None] = None\n",
    "\n",
    "if (per>= 0) and (per < 33):\n",
    "  grade = \"F\"\n",
    "elif (per>=33) and (per < 40):\n",
    "  grade = \"E\"\n",
    "elif (per>= 40) and (per < 50): \n",
    "  grade = \"D\"\n",
    "elif (per>= 50) and (per < 60): \n",
    "  grade = \"C\"\n",
    "elif (per>= 60) and (per < 70): \n",
    "  grade = \"B\"\n",
    "elif (per>= 70) and (per < 80): \n",
    "  grade = \"A\"\n",
    "else:\n",
    "  grade = \"A+\"\n",
    "\n",
    "student_per_grade =f\"Student marks is {per} and student grade is {grade} \"\n",
    "print(student_per_grade)"
   ]
  },
  {
   "cell_type": "code",
   "execution_count": 30,
   "metadata": {},
   "outputs": [
    {
     "name": "stdout",
     "output_type": "stream",
     "text": [
      "🎓 The student's percentage is 78.5% and the grade achieved is A\n"
     ]
    }
   ],
   "source": [
    "from typing import Union\n",
    "\n",
    "# Union allows both int and float types\n",
    "percentage: Union[int, float] = 78.5\n",
    "grade: Union[str, None] = None\n",
    "\n",
    "if percentage >= 80:\n",
    "    grade = \"A+\"\n",
    "elif percentage >= 70:\n",
    "    grade = \"A\"\n",
    "elif percentage >= 60:\n",
    "    grade = \"B\"\n",
    "elif percentage >= 50:\n",
    "    grade = \"C\"\n",
    "elif percentage >= 40:\n",
    "    grade = \"D\"\n",
    "elif percentage >= 33:\n",
    "    grade = \"E\"\n",
    "else:\n",
    "    grade = \"F\"\n",
    "\n",
    "result = f\"🎓 The student's percentage is {percentage}% and the grade achieved is {grade}\"\n",
    "print(result)"
   ]
  },
  {
   "cell_type": "code",
   "execution_count": null,
   "metadata": {},
   "outputs": [
    {
     "data": {
      "text/plain": [
       "[(7, 90, 'A+'),\n",
       " (1, 88, 'A+'),\n",
       " (8, 80, 'A+'),\n",
       " (0, 65, 'B'),\n",
       " (4, 55, 'C'),\n",
       " (5, 44, 'D'),\n",
       " (3, 33, 'E'),\n",
       " (2, 22, 'F'),\n",
       " (6, 10, 'F')]"
      ]
     },
     "execution_count": 62,
     "metadata": {},
     "output_type": "execute_result"
    }
   ],
   "source": [
    "from typing import Union \n",
    "\n",
    "PerType = Union[float , int]\n",
    "\n",
    "percentages : list[PerType] = [65 , 88 , 22 , 33 , 55 , 44 , 10 , 90 , 80]\n",
    "\n",
    "grades : list[str] = []\n",
    "\n",
    "for per in percentages: \n",
    "  grade : str = \"\"\n",
    "\n",
    "  if (per>= 0) and (per < 33):\n",
    "    grade = \"F\"\n",
    "  elif (per>=33) and (per < 40):\n",
    "    grade = \"E\"\n",
    "  elif (per>= 40) and (per < 50): \n",
    "    grade = \"D\"\n",
    "  elif (per>= 50) and (per < 60): \n",
    "    grade = \"C\"\n",
    "  elif (per>= 60) and (per < 70): \n",
    "    grade = \"B\"\n",
    "  elif (per>= 70) and (per < 80): \n",
    "    grade = \"A\"\n",
    "  elif (per>= 80) and (per < 100): \n",
    "    grade = \"A+\"\n",
    "\n",
    "  grades.append(grade)\n",
    "\n",
    "\n",
    "\n",
    "roll_no : int = list(range(len(percentages)))\n",
    "\n",
    "result = list(zip(roll_no,percentages,grades))\n",
    "# display(result)\n",
    "\n",
    "sorted(result, key=lambda x:x[1], reverse=True)\n"
   ]
  }
 ],
 "metadata": {
  "kernelspec": {
   "display_name": "Python 3",
   "language": "python",
   "name": "python3"
  },
  "language_info": {
   "codemirror_mode": {
    "name": "ipython",
    "version": 3
   },
   "file_extension": ".py",
   "mimetype": "text/x-python",
   "name": "python",
   "nbconvert_exporter": "python",
   "pygments_lexer": "ipython3",
   "version": "3.12.6"
  }
 },
 "nbformat": 4,
 "nbformat_minor": 2
}
