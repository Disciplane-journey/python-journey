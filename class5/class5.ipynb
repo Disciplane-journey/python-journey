{
 "cells": [
  {
   "cell_type": "code",
   "execution_count": null,
   "metadata": {},
   "outputs": [
    {
     "name": "stdout",
     "output_type": "stream",
     "text": [
      "Tahir\n",
      "Shoaib\n",
      "Tahir Shoaib\n",
      "Tahir\n",
      "MY Name is Tahir\n",
      "\n",
      "This is me ['tahir Shoaib'] \n"
     ]
    }
   ],
   "source": [
    "# Old version\n",
    "names: list[str] = ['Shoaib', 'Tahir', 'Tahir Shoaib']\n",
    "# for(i = 0; i < names.length; i++) {\n",
    "#     names[i]\n",
    "# }\n",
    "\n",
    "# New version\n",
    "names:list[str] = ['Tahir','Shoaib','Tahir Shoaib']\n",
    "\n",
    "for name in names:\n",
    "  print(name)\n",
    "\n",
    "# Important:\n",
    "# In Python, you end a loop or condition with a colon (:).\n",
    "# Unlike JavaScript or TypeScript where you use {}, \n",
    "# Python makes it easier — you just add a colon (:) at the end.\n",
    "# But to close the block, you must use proper indentation.\n",
    "# Any code written after reducing the indentation will run outside the loop.\n",
    "#\n",
    "# First, you define an iterable data type (like a list).\n",
    "# Example: I created a list called 'names'.\n",
    "# Then, to access each item from the list, you use:\n",
    "# for name in names:\n",
    "# Here, 'name' is just a variable that stores each value one by one from 'names'.\n",
    "\n",
    "\n",
    "names:list[str] = ['Tahir','tahir Shoaib','Shoaib']\n",
    "\n",
    "for name in names[:1]:\n",
    "  print(name)\n",
    "  print(f'MY Name is {name.title()}\\n')\n",
    "print(f'This is me {names[1:2]} ')  "
   ]
  },
  {
   "cell_type": "code",
   "execution_count": null,
   "metadata": {},
   "outputs": [
    {
     "name": "stdout",
     "output_type": "stream",
     "text": [
      "sawban\n",
      "MY brother Sawban\n",
      "\n",
      "anas\n",
      "MY brother Anas\n",
      "\n",
      "this is me ['tahir'] \n"
     ]
    }
   ],
   "source": [
    "names:list[str] = ['Tahir','tahir Shoaib','Shoaib']\n",
    "\n",
    "for name in names[-3:3:2]:\n",
    "  print(name)\n",
    "  print(f'MY brother {name.title()}\\n')\n",
    "print(f'this is me {names[1:2]} ')  "
   ]
  },
  {
   "cell_type": "code",
   "execution_count": 1,
   "metadata": {},
   "outputs": [
    {
     "name": "stdout",
     "output_type": "stream",
     "text": [
      "Tahir and 123 not valid\n"
     ]
    }
   ],
   "source": [
    "data_base : list[tuple[str,str]] = [('tahir','123'),('Shoaib','123')]\n",
    "\n",
    "input_user : str = input(\"Enter user name\")\n",
    "input_password : str = input(\"Enter user Passwword\")\n",
    "\n",
    "for row in data_base:\n",
    "  user , password = row\n",
    "  if input_user == user and input_password == password:\n",
    "    print(f\"This is user {input_user.title()} and user password {input_password} valid\")\n",
    "    break\n",
    "else:\n",
    "  print(f\"{input_user} and {input_password} not valid\")  \n"
   ]
  },
  {
   "cell_type": "code",
   "execution_count": null,
   "metadata": {},
   "outputs": [
    {
     "name": "stdout",
     "output_type": "stream",
     "text": [
      "0 Tahir\n",
      "1 Shoaib\n"
     ]
    }
   ],
   "source": [
    "# enumerate() converts your list into tuples containing both the index and the value of each element.\n",
    "# It’s useful when you want to loop through a list and keep track of the item’s position.\n",
    "\n",
    "names : list[str] = [\"Tahir\",\"Shoaib\"] \n",
    "list(enumerate(names))\n",
    "\n",
    "for index , name in enumerate(names):\n",
    "  print(index,name)"
   ]
  },
  {
   "cell_type": "code",
   "execution_count": 12,
   "metadata": {},
   "outputs": [
    {
     "data": {
      "text/plain": [
       "[0, 1, 2, 3, 4, 5, 6, 7, 8, 9]"
      ]
     },
     "execution_count": 12,
     "metadata": {},
     "output_type": "execute_result"
    }
   ],
   "source": [
    "list(range(10))"
   ]
  },
  {
   "cell_type": "code",
   "execution_count": 14,
   "metadata": {},
   "outputs": [
    {
     "data": {
      "text/plain": [
       "[2, 3, 4, 5, 6, 7, 8, 9]"
      ]
     },
     "execution_count": 14,
     "metadata": {},
     "output_type": "execute_result"
    }
   ],
   "source": [
    "list(range(2,10))"
   ]
  },
  {
   "cell_type": "code",
   "execution_count": 15,
   "metadata": {},
   "outputs": [
    {
     "data": {
      "text/plain": [
       "[2, 4, 6, 8, 10, 12, 14, 16, 18, 20]"
      ]
     },
     "execution_count": 15,
     "metadata": {},
     "output_type": "execute_result"
    }
   ],
   "source": [
    "list(range(2,21,2))"
   ]
  },
  {
   "cell_type": "code",
   "execution_count": 3,
   "metadata": {},
   "outputs": [
    {
     "name": "stdout",
     "output_type": "stream",
     "text": [
      "2 x 1 = 2\n",
      "2 x 2 = 4\n",
      "2 x 3 = 6\n",
      "2 x 4 = 8\n",
      "2 x 5 = 10\n",
      "2 x 6 = 12\n",
      "2 x 7 = 14\n",
      "2 x 8 = 16\n",
      "2 x 9 = 18\n",
      "2 x 10 = 20\n"
     ]
    }
   ],
   "source": [
    "for n in range(1,11):\n",
    "  print(f\"{2} x {n} = {n*2}\")"
   ]
  },
  {
   "cell_type": "code",
   "execution_count": 53,
   "metadata": {},
   "outputs": [
    {
     "name": "stdout",
     "output_type": "stream",
     "text": [
      "[1, 4, 9, 16, 25, 36, 49, 64, 81, 100]\n"
     ]
    }
   ],
   "source": [
    "squares :list[int] = []\n",
    "for value in range(1,11):\n",
    "  square = value ** 2\n",
    "  squares.append(square)\n",
    "print(squares)"
   ]
  },
  {
   "cell_type": "code",
   "execution_count": 54,
   "metadata": {},
   "outputs": [
    {
     "data": {
      "text/plain": [
       "[1, 4, 9, 16, 25, 36, 49, 64, 81, 100]"
      ]
     },
     "execution_count": 54,
     "metadata": {},
     "output_type": "execute_result"
    }
   ],
   "source": [
    "[i**2 for i in range(1,11)]"
   ]
  },
  {
   "cell_type": "code",
   "execution_count": 60,
   "metadata": {},
   "outputs": [
    {
     "name": "stdout",
     "output_type": "stream",
     "text": [
      "5\n",
      "1\n",
      "15\n"
     ]
    }
   ],
   "source": [
    "number = [1,2,3,4,5]\n",
    "\n",
    "print(max(number))\n",
    "print(min(number))\n",
    "print(sum(number))"
   ]
  },
  {
   "cell_type": "code",
   "execution_count": 7,
   "metadata": {},
   "outputs": [
    {
     "name": "stdout",
     "output_type": "stream",
     "text": [
      "['Tahir', 'shoaib']\n",
      "['Tahir', 'shoaib']\n",
      "['Tahir', 'shoaib']\n",
      "['Change', 'shoaib']\n"
     ]
    }
   ],
   "source": [
    "name : list[str] = [\"Tahir\",\"shoaib\"]\n",
    "deep_copy = name[:]\n",
    "\n",
    "print(name)\n",
    "print(deep_copy)\n",
    "\n",
    "deep_copy[0]=\"Change\"\n",
    "\n",
    "print(name)\n",
    "print(deep_copy)\n",
    "\n",
    "\n",
    "\n",
    "\n"
   ]
  },
  {
   "cell_type": "code",
   "execution_count": null,
   "metadata": {},
   "outputs": [],
   "source": []
  }
 ],
 "metadata": {
  "kernelspec": {
   "display_name": "Python 3",
   "language": "python",
   "name": "python3"
  },
  "language_info": {
   "codemirror_mode": {
    "name": "ipython",
    "version": 3
   },
   "file_extension": ".py",
   "mimetype": "text/x-python",
   "name": "python",
   "nbconvert_exporter": "python",
   "pygments_lexer": "ipython3",
   "version": "3.12.6"
  }
 },
 "nbformat": 4,
 "nbformat_minor": 2
}
